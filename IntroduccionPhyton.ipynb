{
  "nbformat": 4,
  "nbformat_minor": 0,
  "metadata": {
    "colab": {
      "name": "IntroduccionPhyton.ipynb",
      "provenance": [],
      "toc_visible": true,
      "authorship_tag": "ABX9TyNw8plaZTzTqsqCFXB1sHLA",
      "include_colab_link": true
    },
    "kernelspec": {
      "name": "python3",
      "display_name": "Python 3"
    },
    "language_info": {
      "name": "python"
    }
  },
  "cells": [
    {
      "cell_type": "markdown",
      "metadata": {
        "id": "view-in-github",
        "colab_type": "text"
      },
      "source": [
        "<a href=\"https://colab.research.google.com/github/ElRET/IntroduccionPython/blob/main/IntroduccionPhyton.ipynb\" target=\"_parent\"><img src=\"https://colab.research.google.com/assets/colab-badge.svg\" alt=\"Open In Colab\"/></a>"
      ]
    },
    {
      "cell_type": "markdown",
      "source": [
        "#**1)Introduccion a Python**\n",
        "Se trata de un lenguaje de programación de alto nivel multiparadigma, ya que soporta orientación a objetos, programación imperativa y, en menor medida, programación funcional. Es un lenguaje interpretado, dinámico y multiplataforma\"\n",
        "\n",
        "Este lenguaje fue creado a principios de los noventa por Guido van Rossum en los Países Bajos.\n",
        "\n",
        "El nombre del lenguaje proviene de la afición de su creador por los humoristas británicos Monty Python.\n",
        "\n",
        "Es administrado por la Python Software Foundation. Posee una lice"
      ],
      "metadata": {
        "id": "I2QfaXu7mMpu"
      }
    },
    {
      "cell_type": "markdown",
      "source": [
        "#**2)Phyton para ciencia**\n",
        "    "
      ],
      "metadata": {
        "id": "XVPsI4GgmiOw"
      }
    }
  ]
}